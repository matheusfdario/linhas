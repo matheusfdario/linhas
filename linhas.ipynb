{
 "cells": [
  {
   "cell_type": "code",
   "execution_count": 1,
   "metadata": {
    "collapsed": false,
    "ExecuteTime": {
     "end_time": "2023-12-07T01:51:00.248158Z",
     "start_time": "2023-12-07T01:50:59.966156700Z"
    }
   },
   "outputs": [],
   "source": [
    "import numpy as np\n",
    "from math import sqrt"
   ]
  },
  {
   "cell_type": "code",
   "execution_count": 2,
   "metadata": {
    "collapsed": false,
    "ExecuteTime": {
     "end_time": "2023-12-07T01:51:00.248158Z",
     "start_time": "2023-12-07T01:51:00.159156700Z"
    }
   },
   "outputs": [],
   "source": [
    "# Função para Calcular Flechas\n",
    "\n",
    "def CalcFlecha(q,V,T,C1):\n",
    "    fc = C1*(np.cosh((q*V)/(2*T))-1)\n",
    "    return fc\n",
    "def CalcComp(e,C1,V):\n",
    "    e1 = np.zeros(len(e)+1)\n",
    "    e2 = np.zeros(len(e)+1)\n",
    "    e1[0] = e[0]\n",
    "    e2[-1] = e[-1]\n",
    "    e1[1:] = e1[1:] + e\n",
    "    e2[:-1] = e2[:-1] + e\n",
    "    l = np.sqrt((e1-e2)**2 + 4*C1**2*np.sinh(V/(2*C1))**2)\n",
    "    return l\n",
    "def CalcH(hmin,fc):\n",
    "    hmin1 = np.zeros(len(hmin)-1)\n",
    "    hmin2 = np.zeros(len(hmin)-1)\n",
    "    hmin1 = hmin[:-1]\n",
    "    hmin2 = hmin[1:]\n",
    "    fc1 = np.zeros(len(fc)-1)\n",
    "    fc2 = np.zeros(len(fc)-1)\n",
    "    fc1 = fc[:-1]\n",
    "    fc2 = fc[1:]\n",
    "    H = np.maximum(hmin1,hmin2)+np.maximum(fc1,fc1)\n",
    "    return H\n",
    "def FindTo2(q,E,S,PesoCabo,Ag,TracaoTo,alfa_t,t,t_EDS,Tol):\n",
    "    A = (E*S*PesoCabo**2*Ag**2)/(24*TracaoTo**2)+E*S*alfa_t*(t-t_EDS)-TracaoTo\n",
    "    B = (E*S*q**2*Ag**2)/24\n",
    "    To2 = TracaoTo+TracaoTo*0.1\n",
    "    mod_erro = 100\n",
    "    while(mod_erro > Tol):\n",
    "        erro = -(To2**3+To2**2*A-B)/(3*To2**2+2*To2*A)\n",
    "        mod_erro = np.max(np.absolute(erro))\n",
    "        To2 = To2 + erro\n",
    "    return To2"
   ]
  },
  {
   "cell_type": "code",
   "execution_count": 3,
   "metadata": {
    "collapsed": true,
    "jupyter": {
     "outputs_hidden": true
    },
    "ExecuteTime": {
     "end_time": "2023-12-07T01:51:00.249156600Z",
     "start_time": "2023-12-07T01:51:00.173157300Z"
    }
   },
   "outputs": [
    {
     "data": {
      "text/plain": "19.404980000000002"
     },
     "execution_count": 3,
     "metadata": {},
     "output_type": "execute_result"
    }
   ],
   "source": [
    "# Dados dos Cabos\n",
    "PesoCabo =  1.9801*9.8     # kgf/m, Catálogo Nexans\n",
    "PesoCabo"
   ]
  },
  {
   "cell_type": "code",
   "execution_count": 4,
   "metadata": {
    "collapsed": false,
    "ExecuteTime": {
     "end_time": "2023-12-07T01:51:00.249156600Z",
     "start_time": "2023-12-07T01:51:00.187157400Z"
    }
   },
   "outputs": [
    {
     "data": {
      "text/plain": "16125"
     },
     "execution_count": 4,
     "metadata": {},
     "output_type": "execute_result"
    }
   ],
   "source": [
    "TensaoRuptura = 16125       # retirado do Catálogo Nexans\n",
    "TensaoRuptura"
   ]
  },
  {
   "cell_type": "code",
   "execution_count": 5,
   "metadata": {
    "collapsed": false,
    "ExecuteTime": {
     "end_time": "2023-12-07T01:51:00.249156600Z",
     "start_time": "2023-12-07T01:51:00.202160600Z"
    }
   },
   "outputs": [
    {
     "data": {
      "text/plain": "3225.0"
     },
     "execution_count": 5,
     "metadata": {},
     "output_type": "execute_result"
    }
   ],
   "source": [
    "TracaoTo = 0.2*TensaoRuptura    # Máxima tensão de ruptura adm. (NBR5422)\n",
    "TracaoTo"
   ]
  },
  {
   "cell_type": "code",
   "execution_count": 6,
   "metadata": {
    "collapsed": false,
    "ExecuteTime": {
     "end_time": "2023-12-07T01:51:00.250157100Z",
     "start_time": "2023-12-07T01:51:00.217157300Z"
    }
   },
   "outputs": [
    {
     "data": {
      "text/plain": "166.1944511151261"
     },
     "execution_count": 6,
     "metadata": {},
     "output_type": "execute_result"
    }
   ],
   "source": [
    "C1 = TracaoTo/PesoCabo  # Constante de Contorno\n",
    "C1"
   ]
  },
  {
   "cell_type": "code",
   "execution_count": 7,
   "metadata": {
    "collapsed": false,
    "ExecuteTime": {
     "end_time": "2023-12-07T01:51:00.250157100Z",
     "start_time": "2023-12-07T01:51:00.233156900Z"
    }
   },
   "outputs": [
    {
     "data": {
      "text/plain": "67000.0"
     },
     "execution_count": 7,
     "metadata": {},
     "output_type": "execute_result"
    }
   ],
   "source": [
    "E = 67e+3   # Módulo de elasticidade para cabos CAA 54/7 # catálogo Alubrás\n",
    "E"
   ]
  },
  {
   "cell_type": "code",
   "execution_count": 8,
   "metadata": {
    "collapsed": false,
    "ExecuteTime": {
     "end_time": "2023-12-07T01:51:00.276156400Z",
     "start_time": "2023-12-07T01:51:00.248158Z"
    }
   },
   "outputs": [
    {
     "data": {
      "text/plain": "1.94e-05"
     },
     "execution_count": 8,
     "metadata": {},
     "output_type": "execute_result"
    }
   ],
   "source": [
    "alfa_t = 19.4e-6 # Coef. dilatação para cabos CAA 54/7 # catálogo Alubrás\n",
    "alfa_t"
   ]
  },
  {
   "cell_type": "code",
   "execution_count": 9,
   "metadata": {
    "collapsed": false,
    "ExecuteTime": {
     "end_time": "2023-12-07T01:51:00.383160800Z",
     "start_time": "2023-12-07T01:51:00.264156200Z"
    }
   },
   "outputs": [
    {
     "data": {
      "text/plain": "591.26"
     },
     "execution_count": 9,
     "metadata": {},
     "output_type": "execute_result"
    }
   ],
   "source": [
    "S = 591.26 # Área de Secção Transversal em mm²  Catálogo Nexans\n",
    "S"
   ]
  },
  {
   "cell_type": "code",
   "execution_count": 10,
   "metadata": {
    "collapsed": false,
    "ExecuteTime": {
     "end_time": "2023-12-07T01:51:00.384158700Z",
     "start_time": "2023-12-07T01:51:00.282159800Z"
    }
   },
   "outputs": [
    {
     "data": {
      "text/plain": "0.03162"
     },
     "execution_count": 10,
     "metadata": {},
     "output_type": "execute_result"
    }
   ],
   "source": [
    "diametro = 31.62/1000 # Diâmetro do condutor em m,  Catálogo Nexans\n",
    "diametro"
   ]
  },
  {
   "cell_type": "code",
   "execution_count": 11,
   "metadata": {
    "collapsed": false,
    "ExecuteTime": {
     "end_time": "2023-12-07T01:51:00.410156200Z",
     "start_time": "2023-12-07T01:51:00.298157700Z"
    }
   },
   "outputs": [],
   "source": [
    "# Dados do Projeto\n",
    "\n",
    "x = np.zeros(8)\n",
    "x[0] = 150        # Distância entre o centro do Vão 1 e Torre E1\n",
    "x[1] = 380        # Distância entre a Torre E1 e o centro do Vão 2\n",
    "x[2] = 100        # Distância entre a Torre E2 e o centro do Vão 2\n",
    "x[3] = 250        # Distância entre o centro do Vão 2 e o centro do Vão 3\n",
    "x[4] = 50         # Distância entre o centro do Vão 3 e Torre E3\n",
    "x[5] = 200        # Distância entre a Torre E3 e o centro do Vão 4\n",
    "x[6] = 150        # Distância entre o centro do Vão 4 e Torre E4\n",
    "x[7] = 250        # Distância entre a Torre E4 e o centro do Vão 5\n",
    "\n",
    "V = np.zeros(5)\n",
    "V[0] = 300        # Centro do vão 1\n",
    "V[1] = 280        # Centro do vão 2\n",
    "V[2] = 400        # Centro do vão 3\n",
    "V[3] = 350        # Centro do vão 4\n",
    "V[4] = 500        # Centro do vão 5\n",
    "\n",
    "E =  np.zeros(4)\n",
    "E[0] = 50         # Altura de desnível da Torre E1\n",
    "E[1] = 20         # Altura de desnível da Torre E2\n",
    "E[2] = 10         # Altura de desnível da Torre E3\n",
    "E[3] = 0          # Torre de referência, considerando 0 m de desnível\n",
    "\n",
    "Vlinha = 500    # Tensão da LT, em kV\n",
    "llinha = 430e+3 # Comprimento da LT, em kV]"
   ]
  },
  {
   "cell_type": "code",
   "execution_count": 12,
   "metadata": {
    "collapsed": false,
    "ExecuteTime": {
     "end_time": "2023-12-07T01:51:00.411157400Z",
     "start_time": "2023-12-07T01:51:00.313157500Z"
    }
   },
   "outputs": [],
   "source": [
    "# Dados do Ambiente %\n",
    "\n",
    "alt = 430           # Altitude média do ambiente\n",
    "t_EDS = 23          # Temperatura EDS\n",
    "t_min = 1.2         # Temperatura mínima\n",
    "vt_min = 25         # Velocidade do vento p/ temperatura mínima\n",
    "vt_min_ang = 0      # Ângulo de incidência do vento p/ temp. mínima\n",
    "t_coin = 18.4       # Temperatura coincidente\n",
    "vt_coin = 32        # Velocidade do vento p/ temperatura coincidente\n",
    "vt_coin_ang = 90    # Ângulo de incidência do vento p/ temp. coincidente\n",
    "t_max = 44          # Temperatura máxima\n",
    "vt_max = 0          # Velocidade do vento p/ temperatura máxima\n",
    "vt_max_ang = 0      # Ângulo de incidência do vento p/ temp. máxima"
   ]
  },
  {
   "cell_type": "code",
   "execution_count": 13,
   "metadata": {
    "collapsed": false,
    "ExecuteTime": {
     "end_time": "2023-12-07T01:51:00.413158900Z",
     "start_time": "2023-12-07T01:51:00.329156900Z"
    }
   },
   "outputs": [
    {
     "name": "stdout",
     "output_type": "stream",
     "text": [
      "Tol: 1e-06\n",
      "par: 1.1520508960635631\n"
     ]
    }
   ],
   "source": [
    "# Variáveis de Uso Comum\n",
    "\n",
    "Tol = 1e-6                                                                      # Tolerância para divergência\n",
    "print('Tol:',Tol)\n",
    "par = (1.293/(1+0.00367*t_coin))*((16000+64*t_coin-alt)/(16000+64*t_coin+alt))  # Massa específica do ar, em kg/m3\n",
    "print('par:',par)\n",
    "Cxc = 1.0                                                                       # Coeficiente de arrasto (padrão: 1.0)\n",
    "alfa_e = 0.8                                                                    # coeficiente de efetividade da pressão do vento (padrão: 0.8)\n",
    "size = 5\n",
    "q = np.zeros(size)\n",
    "fv = np.zeros(size)\n",
    "q[0] = PesoCabo\n",
    "fv[0] = 0"
   ]
  },
  {
   "cell_type": "code",
   "execution_count": 14,
   "metadata": {
    "collapsed": false,
    "ExecuteTime": {
     "end_time": "2023-12-07T01:51:00.414159Z",
     "start_time": "2023-12-07T01:51:00.347156800Z"
    }
   },
   "outputs": [
    {
     "data": {
      "text/plain": "array([10.38675135, 10.38675135, 11.38675135,  8.88675135,  8.88675135])"
     },
     "execution_count": 14,
     "metadata": {},
     "output_type": "execute_result"
    }
   ],
   "source": [
    "# Alturas Míninas dos Vãos\n",
    "\n",
    "hmin_v = np.zeros(5)\n",
    "hmin_v[0] = 8.0+0.01*(Vlinha/sqrt(3)-50)    # Altura p/ Rodovia Federal\n",
    "hmin_v[1] = 8.0+0.01*(Vlinha/sqrt(3)-50)    # Altura p/ Rodovia Federal\n",
    "hmin_v[2] = 9.0+0.01*(Vlinha/sqrt(3)-50)    # Altura p/ Ferrovia ñ Eletrificada\n",
    "hmin_v[3] = 6.5+0.01*(Vlinha/sqrt(3)-50)    # Altura p/ Máquinas Agrícolas\n",
    "hmin_v[4] = 6.5+0.01*(Vlinha/sqrt(3)-50)    # Altura p/ Máquinas Agrícolas\n",
    "hmin_v"
   ]
  },
  {
   "cell_type": "code",
   "execution_count": 15,
   "metadata": {
    "collapsed": false,
    "ExecuteTime": {
     "end_time": "2023-12-07T01:51:00.433153700Z",
     "start_time": "2023-12-07T01:51:00.365158700Z"
    }
   },
   "outputs": [
    {
     "data": {
      "text/plain": "array([290., 340., 375., 425.])"
     },
     "execution_count": 15,
     "metadata": {},
     "output_type": "execute_result"
    }
   ],
   "source": [
    "# Cálculo do Vão Médio das Torres\n",
    "# Vão médio (am ou vm): representa a média aritmética entre os vãos adjacentes à estrutura.\n",
    "\n",
    "am_E = np.zeros(4)\n",
    "am_E[0] = (2*x[0]+(x[1]-x[2]))/2        # Vão 1 está entre torre E-∞ e E1\n",
    "am_E[1] = ((x[1]+x[3]+x[4]))/2          # Vão 2 está entre torre E1 e E2\n",
    "am_E[2] = (x[2]+x[3]+x[4]+x[5]+x[6])/2  # Vão 3 está entre torre E3 e E4\n",
    "am_E[3] = ((x[5]+x[6])+2*x[7])/2        # Vão 4 está entre torre E4 e E+∞\n",
    "am_E"
   ]
  },
  {
   "cell_type": "code",
   "execution_count": 16,
   "metadata": {
    "collapsed": false,
    "ExecuteTime": {
     "end_time": "2023-12-07T01:51:00.449158400Z",
     "start_time": "2023-12-07T01:51:00.378158200Z"
    }
   },
   "outputs": [
    {
     "data": {
      "text/plain": "array([530., 250., 250., 400.])"
     },
     "execution_count": 16,
     "metadata": {},
     "output_type": "execute_result"
    }
   ],
   "source": [
    "# Cálculo do Vão Gravante das Torres\n",
    "# Vão gravante (Ag ou Vg): somatório das distâncias da estrutura aos centros das catenárias adjacentes a ela.\n",
    "\n",
    "Ag_E = np.zeros(4)\n",
    "Ag_E[0] = x[0]+x[1] # Distância entre centros do vãos 1 e 2\n",
    "Ag_E[1] = x[3]      # Distância entre centros do vãos 2 e 3\n",
    "Ag_E[2] = x[4]+x[5] # Distância entre centros do vãos 3 e 4\n",
    "Ag_E[3] = x[6]+x[7] # Distância entre centros do vãos 4 e 5\n",
    "Ag_E"
   ]
  },
  {
   "cell_type": "code",
   "execution_count": 17,
   "metadata": {
    "collapsed": false,
    "ExecuteTime": {
     "end_time": "2023-12-07T01:51:00.450158300Z",
     "start_time": "2023-12-07T01:51:00.393159500Z"
    }
   },
   "outputs": [
    {
     "data": {
      "text/plain": "391.7363616632752"
     },
     "execution_count": 17,
     "metadata": {},
     "output_type": "execute_result"
    }
   ],
   "source": [
    "# Cálculo do Vão Regulador\n",
    "\n",
    "# regulador (ar ou vr): representa a forma das catenárias de todos os vãos do trecho projetado.\n",
    "\n",
    "a = np.zeros(5)\n",
    "a[0] = 2*x[0]                                               # Distância entre Torre E-∞ e Torre E1\n",
    "a[1] = x[1] - x[2]                                          # Distância entre Torre E1 e Torre E2\n",
    "a[2] = x[2] + x[3] + x[4]                                   # Distância entre Torre E2 e Torre E3\n",
    "a[3] = x[5] + x[6]                                          # Distância entre Torre E3 e Torre E4\n",
    "a[4] = 2*x[7]                                               # Distância entre Torre E4 e Torre E+∞\n",
    "ar = sqrt(np.sum(a**3)/np.sum(a))  #Equação de ar\n",
    "ar"
   ]
  },
  {
   "cell_type": "code",
   "execution_count": 18,
   "metadata": {
    "collapsed": false,
    "ExecuteTime": {
     "end_time": "2023-12-07T01:51:00.575153500Z",
     "start_time": "2023-12-07T01:51:00.411157400Z"
    }
   },
   "outputs": [
    {
     "name": "stdout",
     "output_type": "stream",
     "text": [
      "[10284.6394  4851.245   4851.245   7761.992 ]\n",
      "[10778.42440193  4851.245       4851.245       8405.30456367]\n"
     ]
    }
   ],
   "source": [
    "'''\n",
    "Trações nos Cabos\n",
    "As trações verticais em cada estrutura são sempre dadas pelo peso do condutor (sempre em [kgf/m]) multiplicadas pelo somatório das distâncias entre a estrutura\n",
    "e os vértices das catenárias adjacentes a ela, ou seja, peso multiplicado pelo vão gravante (Vg).\n",
    "'''\n",
    "Tv_E = np.zeros(4)\n",
    "T_E = np.zeros(4)\n",
    "\n",
    "Tv_E[0] = PesoCabo*Ag_E[0]              # Tração vertical da Torre E1\n",
    "T_E[0] = sqrt(Tv_E[0]**2+TracaoTo**2)   # Tração total da Torre E1\n",
    "Tv_E[1] = PesoCabo*Ag_E[1]              # Tração vertical da Torre E2\n",
    "T_E[1] = Tv_E[1]                        # Tração total da Torre E2\n",
    "Tv_E[2] = PesoCabo*Ag_E[2]              # Tração vertical da Torre E3\n",
    "T_E[2] = Tv_E[2]                        # Tração total da Torre E3\n",
    "Tv_E[3] = PesoCabo*Ag_E[3]              # Tração vertical da Torre E4\n",
    "T_E[3] = sqrt(Tv_E[3]**2+TracaoTo**2)   # Tração total da Torre E4\n",
    "print(Tv_E)\n",
    "print(T_E)"
   ]
  },
  {
   "cell_type": "code",
   "execution_count": 19,
   "metadata": {
    "collapsed": false,
    "ExecuteTime": {
     "end_time": "2023-12-07T01:51:00.586155600Z",
     "start_time": "2023-12-07T01:51:00.423159400Z"
    }
   },
   "outputs": [
    {
     "data": {
      "text/plain": "array([[ 72.41359677,  62.53760046, 135.58355724, 100.97016677,\n        226.2747474 ],\n       [  0.        ,   0.        ,   0.        ,   0.        ,\n          0.        ],\n       [  0.        ,   0.        ,   0.        ,   0.        ,\n          0.        ],\n       [  0.        ,   0.        ,   0.        ,   0.        ,\n          0.        ]])"
     },
     "execution_count": 19,
     "metadata": {},
     "output_type": "execute_result"
    }
   ],
   "source": [
    "'''\n",
    "Cálculo das Flechas para Condição Inicial\n",
    "A equação da catenária é a equação geral para o comprimento dos cabos e pode ser usada tanto para cabos suspensos por estruturas de mesma altura quando para cabos\n",
    "suspensos por estruturas de alturas diferentes.\n",
    "'''\n",
    "fc = np.zeros([4,5])\n",
    "fc[0] = CalcFlecha(PesoCabo,V,TracaoTo,C1) # Flecha de todos os vãos\n",
    "fc"
   ]
  },
  {
   "cell_type": "code",
   "execution_count": 20,
   "metadata": {
    "collapsed": false,
    "ExecuteTime": {
     "end_time": "2023-12-07T01:51:00.602158Z",
     "start_time": "2023-12-07T01:51:00.439160800Z"
    }
   },
   "outputs": [
    {
     "data": {
      "text/plain": "array([   0.        , 2291.61089386,    0.        ,    0.        ,\n          0.        ])"
     },
     "execution_count": 20,
     "metadata": {},
     "output_type": "execute_result"
    }
   ],
   "source": [
    "'''\n",
    "Cálculo do Comprimento da Linha para Condição Inicial\n",
    "A equação da catenária é a equação geral para o comprimento dos cabos e pode ser\n",
    "usada tanto para cabos suspensos por estruturas de mesma altura quando para cabos\n",
    "suspensos por estruturas de alturas diferentes.\n",
    "'''\n",
    "l = CalcComp(E,C1,V) # Comprimento da linha entre E-∞ e E1, nivelada\n",
    "l_tot = np.zeros(size)\n",
    "l_tot[1] = np.sum(l)\n",
    "l_tot"
   ]
  },
  {
   "cell_type": "code",
   "execution_count": 21,
   "metadata": {
    "collapsed": false,
    "ExecuteTime": {
     "end_time": "2023-12-07T01:51:00.602158Z",
     "start_time": "2023-12-07T01:51:00.453157800Z"
    }
   },
   "outputs": [
    {
     "name": "stdout",
     "output_type": "stream",
     "text": [
      "[ 82.80034812  73.9243518  146.97030858 109.85691811]\n"
     ]
    }
   ],
   "source": [
    "'''\n",
    "Cálculo de Altura da Torre para Condição Inicial\n",
    "A altura da torre é dada pela soma entre a altura mínima e a flecha.\n",
    "'''\n",
    "H_E = CalcH(hmin_v,fc[0])\n",
    "print(H_E)\n",
    "Toc = np.zeros(size)\n",
    "Toc[0] = TracaoTo"
   ]
  },
  {
   "cell_type": "code",
   "execution_count": 22,
   "metadata": {
    "collapsed": false,
    "ExecuteTime": {
     "end_time": "2023-12-07T01:51:00.603157500Z",
     "start_time": "2023-12-07T01:51:00.469158600Z"
    }
   },
   "outputs": [],
   "source": [
    "# Correção para Temperatura Máxima (42oC) Sem Vento\n",
    "\n",
    "q0 = 1/2*par*vt_max**2\n",
    "#fv = q0*Cxc*alfa_e*diametro*0.102*sind(vt_coin_ang)^2;\n",
    "fv[1] = 0.0045*vt_max**2*alfa_e*diametro\n",
    "q[1] = np.sqrt(fv[1]**2+PesoCabo**2)"
   ]
  },
  {
   "cell_type": "code",
   "execution_count": 23,
   "metadata": {
    "collapsed": false,
    "ExecuteTime": {
     "end_time": "2023-12-07T01:51:00.604157500Z",
     "start_time": "2023-12-07T01:51:00.485157200Z"
    }
   },
   "outputs": [
    {
     "name": "stdout",
     "output_type": "stream",
     "text": [
      "[3223.62728116 3222.15329979 3223.21040624 3225.        ] 4\n"
     ]
    }
   ],
   "source": [
    "# Novas Trações dos Cabos\n",
    "\n",
    "To2 = FindTo2(q[1],E,S,PesoCabo,Ag_E,TracaoTo,alfa_t,t_max,t_EDS,Tol)\n",
    "print(To2, len(To2))"
   ]
  },
  {
   "cell_type": "code",
   "execution_count": 24,
   "metadata": {
    "collapsed": false,
    "ExecuteTime": {
     "end_time": "2023-12-07T01:51:00.604157500Z",
     "start_time": "2023-12-07T01:51:00.500158400Z"
    }
   },
   "outputs": [
    {
     "data": {
      "text/plain": "array([[ 72.41359677,  62.53760046, 135.58355724, 100.97016677,\n        226.2747474 ],\n       [ 72.41359677,  62.53760046, 135.58355724, 100.97016677,\n        226.2747474 ],\n       [  0.        ,   0.        ,   0.        ,   0.        ,\n          0.        ],\n       [  0.        ,   0.        ,   0.        ,   0.        ,\n          0.        ]])"
     },
     "execution_count": 24,
     "metadata": {},
     "output_type": "execute_result"
    }
   ],
   "source": [
    "# Novas Flechas\n",
    "C1 = np.max(To2)/q[1]\n",
    "fc[1] = CalcFlecha(q[1],V,np.max(To2),C1) # Flecha de todos os vãos\n",
    "fc"
   ]
  },
  {
   "cell_type": "code",
   "execution_count": 25,
   "metadata": {
    "collapsed": false,
    "ExecuteTime": {
     "end_time": "2023-12-07T01:51:00.604157500Z",
     "start_time": "2023-12-07T01:51:00.516158Z"
    }
   },
   "outputs": [
    {
     "data": {
      "text/plain": "2291.6108938601596"
     },
     "execution_count": 25,
     "metadata": {},
     "output_type": "execute_result"
    }
   ],
   "source": [
    "# Novo Comprimento das Linhas\n",
    "\n",
    "l = CalcComp(E,C1,V) # Comprimento da linha entre E-∞ e E1, nivelada\n",
    "l_tot[1] = np.sum(l)\n",
    "l_tot[1]"
   ]
  },
  {
   "cell_type": "code",
   "execution_count": 26,
   "metadata": {
    "collapsed": false,
    "ExecuteTime": {
     "end_time": "2023-12-07T01:51:00.605158100Z",
     "start_time": "2023-12-07T01:51:00.533156800Z"
    }
   },
   "outputs": [
    {
     "name": "stdout",
     "output_type": "stream",
     "text": [
      "[ 82.80034812  73.9243518  146.97030858 109.85691811] [3225. 3225.    0.    0.    0.]\n"
     ]
    }
   ],
   "source": [
    "# Novas Alturas das Torres\n",
    "\n",
    "H_E = CalcH(hmin_v,fc[1])\n",
    "Toc[1] = np.max(To2)\n",
    "print(H_E,Toc)"
   ]
  },
  {
   "cell_type": "code",
   "execution_count": 27,
   "metadata": {
    "collapsed": false,
    "ExecuteTime": {
     "end_time": "2023-12-07T01:51:00.605158100Z",
     "start_time": "2023-12-07T01:51:00.547156600Z"
    }
   },
   "outputs": [],
   "source": [
    "# Correção para Temperatura Mínima (1,2 oC) Com Vento de 25 km/h\n",
    "\n",
    "q0 = 1/2*par*vt_min**2\n",
    "fv[2] = 0.0045*vt_min**2*alfa_e*diametro;\n",
    "q[2] = sqrt(fv[2]**2 + PesoCabo**2);"
   ]
  },
  {
   "cell_type": "code",
   "execution_count": 28,
   "metadata": {
    "collapsed": false,
    "ExecuteTime": {
     "end_time": "2023-12-07T01:51:00.607158500Z",
     "start_time": "2023-12-07T01:51:00.566155900Z"
    }
   },
   "outputs": [
    {
     "name": "stdout",
     "output_type": "stream",
     "text": [
      "[3226.44586647 3227.9672634  3226.86414311 3225.        ] 4\n"
     ]
    }
   ],
   "source": [
    "# Novas Trações dos Cabos\n",
    "\n",
    "To2 = FindTo2(q[2],E,S,PesoCabo,Ag_E,TracaoTo,alfa_t,t_min,t_EDS,Tol)\n",
    "print(To2, len(To2))"
   ]
  },
  {
   "cell_type": "code",
   "execution_count": 29,
   "metadata": {
    "collapsed": false,
    "ExecuteTime": {
     "end_time": "2023-12-07T01:51:00.624161700Z",
     "start_time": "2023-12-07T01:51:00.580159Z"
    }
   },
   "outputs": [
    {
     "data": {
      "text/plain": "array([[ 72.41359677,  62.53760046, 135.58355724, 100.97016677,\n        226.2747474 ],\n       [ 72.41359677,  62.53760046, 135.58355724, 100.97016677,\n        226.2747474 ],\n       [ 72.33867845,  62.47387223, 135.43071113, 100.86133331,\n        225.99329587],\n       [  0.        ,   0.        ,   0.        ,   0.        ,\n          0.        ]])"
     },
     "execution_count": 29,
     "metadata": {},
     "output_type": "execute_result"
    }
   ],
   "source": [
    "# Novas Flechas\n",
    "C1 = np.max(To2)/q[2]\n",
    "fc[2] = CalcFlecha(q[2],V,np.max(To2),C1) # Flecha de todos os vãos\n",
    "fc"
   ]
  },
  {
   "cell_type": "code",
   "execution_count": 30,
   "metadata": {
    "collapsed": false,
    "ExecuteTime": {
     "end_time": "2023-12-07T01:51:00.754189400Z",
     "start_time": "2023-12-07T01:51:00.595160300Z"
    }
   },
   "outputs": [
    {
     "data": {
      "text/plain": "2290.7030945119086"
     },
     "execution_count": 30,
     "metadata": {},
     "output_type": "execute_result"
    }
   ],
   "source": [
    "# Novo Comprimento da Linha\n",
    "\n",
    "l = CalcComp(E,C1,V) # Comprimento da linha entre E-∞ e E1, nivelada\n",
    "l_tot = np.sum(l)\n",
    "l_tot"
   ]
  },
  {
   "cell_type": "code",
   "execution_count": 31,
   "metadata": {
    "collapsed": false,
    "ExecuteTime": {
     "end_time": "2023-12-07T01:51:00.776195Z",
     "start_time": "2023-12-07T01:51:00.610156600Z"
    }
   },
   "outputs": [
    {
     "name": "stdout",
     "output_type": "stream",
     "text": [
      "[ 82.7254298   73.86062358 146.81746248 109.74808466] [3225.        3225.        3227.9672634    0.           0.       ]\n"
     ]
    }
   ],
   "source": [
    "# Novas Alturas das Torres\n",
    "H_E = CalcH(hmin_v,fc[2])\n",
    "Toc[2] = np.max(To2)\n",
    "print(H_E,Toc)"
   ]
  },
  {
   "cell_type": "code",
   "execution_count": 32,
   "metadata": {
    "collapsed": false,
    "ExecuteTime": {
     "end_time": "2023-12-07T01:51:00.778190800Z",
     "start_time": "2023-12-07T01:51:00.626157200Z"
    }
   },
   "outputs": [],
   "source": [
    "# Correção para Temperatura Coincidente (18,4 oC) Com Vento de 32 km/h e 90°\n",
    "\n",
    "q0 = 1/2*par*vt_coin**2;\n",
    "#fv = q0*Cxc*alfa_e*diametro*0.102*sind(vt_coin_ang)^2;\n",
    "fv[3] = 0.0045*vt_coin**2*alfa_e*diametro\n",
    "q[3] = sqrt(fv[3]**2 + PesoCabo**2)"
   ]
  },
  {
   "cell_type": "code",
   "execution_count": 33,
   "metadata": {
    "collapsed": false,
    "ExecuteTime": {
     "end_time": "2023-12-07T01:51:00.780197600Z",
     "start_time": "2023-12-07T01:51:00.642156500Z"
    }
   },
   "outputs": [
    {
     "name": "stdout",
     "output_type": "stream",
     "text": [
      "[3225.35244939 3225.6477555  3225.40705352 3225.        ] 4\n"
     ]
    }
   ],
   "source": [
    "# Novas Trações dos Cabos\n",
    "\n",
    "To2 = FindTo2(q[3],E,S,PesoCabo,Ag_E,TracaoTo,alfa_t,t_coin,t_EDS,Tol)\n",
    "print(To2, len(To2))"
   ]
  },
  {
   "cell_type": "code",
   "execution_count": 34,
   "metadata": {
    "collapsed": false,
    "ExecuteTime": {
     "end_time": "2023-12-07T01:51:00.780197600Z",
     "start_time": "2023-12-07T01:51:00.658158400Z"
    }
   },
   "outputs": [
    {
     "data": {
      "text/plain": "array([[ 72.41359677,  62.53760046, 135.58355724, 100.97016677,\n        226.2747474 ],\n       [ 72.41359677,  62.53760046, 135.58355724, 100.97016677,\n        226.2747474 ],\n       [ 72.33867845,  62.47387223, 135.43071113, 100.86133331,\n        225.99329587],\n       [ 72.39858876,  62.5248343 , 135.55293563, 100.94836377,\n        226.21835509]])"
     },
     "execution_count": 34,
     "metadata": {},
     "output_type": "execute_result"
    }
   ],
   "source": [
    "# Novas Flechas\n",
    "C1 = np.max(To2)/q[3]\n",
    "fc[3] = CalcFlecha(q[3],V,np.max(To2),C1) # Flecha de todos os vãos\n",
    "fc"
   ]
  },
  {
   "cell_type": "code",
   "execution_count": 35,
   "metadata": {
    "collapsed": false,
    "ExecuteTime": {
     "end_time": "2023-12-07T01:51:00.793189500Z",
     "start_time": "2023-12-07T01:51:00.674156200Z"
    }
   },
   "outputs": [
    {
     "data": {
      "text/plain": "2291.4289757281626"
     },
     "execution_count": 35,
     "metadata": {},
     "output_type": "execute_result"
    }
   ],
   "source": [
    "# Novo Comprimento da Linha\n",
    "\n",
    "l = CalcComp(E,C1,V) # Comprimento da linha entre E-∞ e E1, nivelada\n",
    "l_tot = np.sum(l)\n",
    "l_tot"
   ]
  },
  {
   "cell_type": "code",
   "execution_count": 36,
   "metadata": {
    "collapsed": false,
    "ExecuteTime": {
     "end_time": "2023-12-07T01:51:00.793189500Z",
     "start_time": "2023-12-07T01:51:00.689161100Z"
    }
   },
   "outputs": [],
   "source": [
    "# Novas Alturas das Torres\n",
    "\n",
    "H_E = CalcH(hmin_v,fc[2])\n",
    "Toc[3] = np.max(To2)\n"
   ]
  },
  {
   "cell_type": "code",
   "execution_count": 37,
   "outputs": [
    {
     "name": "stdout",
     "output_type": "stream",
     "text": [
      "[19.40498    19.40498    19.40511042 19.40533009  0.        ]\n",
      "[0.         0.         0.071145   0.11656397 0.        ]\n",
      "[[ 72.41359677  62.53760046 135.58355724 100.97016677 226.2747474 ]\n",
      " [ 72.41359677  62.53760046 135.58355724 100.97016677 226.2747474 ]\n",
      " [ 72.33867845  62.47387223 135.43071113 100.86133331 225.99329587]\n",
      " [ 72.39858876  62.5248343  135.55293563 100.94836377 226.21835509]]\n"
     ]
    }
   ],
   "source": [
    "print(q)\n",
    "print(fv)\n",
    "print(fc)"
   ],
   "metadata": {
    "collapsed": false,
    "ExecuteTime": {
     "end_time": "2023-12-07T01:51:00.794157200Z",
     "start_time": "2023-12-07T01:51:00.706157500Z"
    }
   }
  },
  {
   "cell_type": "code",
   "execution_count": 38,
   "outputs": [
    {
     "data": {
      "text/plain": "array([ 82.7254298 ,  73.86062358, 146.81746248, 109.74808466])"
     },
     "execution_count": 38,
     "metadata": {},
     "output_type": "execute_result"
    }
   ],
   "source": [
    "H_E"
   ],
   "metadata": {
    "collapsed": false,
    "ExecuteTime": {
     "end_time": "2023-12-07T01:51:00.794157200Z",
     "start_time": "2023-12-07T01:51:00.721157700Z"
    }
   }
  }
 ],
 "metadata": {
  "kernelspec": {
   "display_name": "Python 3 (ipykernel)",
   "language": "python",
   "name": "python3"
  },
  "language_info": {
   "codemirror_mode": {
    "name": "ipython",
    "version": 3
   },
   "file_extension": ".py",
   "mimetype": "text/x-python",
   "name": "python",
   "nbconvert_exporter": "python",
   "pygments_lexer": "ipython3",
   "version": "3.10.11"
  }
 },
 "nbformat": 4,
 "nbformat_minor": 4
}
