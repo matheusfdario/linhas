{
 "cells": [
  {
   "cell_type": "code",
   "execution_count": 230,
   "metadata": {
    "collapsed": false,
    "ExecuteTime": {
     "end_time": "2023-12-07T01:29:58.008164Z",
     "start_time": "2023-12-07T01:29:57.542204700Z"
    }
   },
   "outputs": [],
   "source": [
    "import numpy as np\n",
    "from math import sqrt"
   ]
  },
  {
   "cell_type": "code",
   "execution_count": 231,
   "metadata": {
    "collapsed": false,
    "ExecuteTime": {
     "end_time": "2023-12-07T01:29:58.008164Z",
     "start_time": "2023-12-07T01:29:57.564164200Z"
    }
   },
   "outputs": [],
   "source": [
    "# Função para Calcular Flechas\n",
    "\n",
    "def CalcFlecha(q,V,T,C1):\n",
    "    fc = C1*(np.cosh((q*V)/(2*T))-1)\n",
    "    return fc\n",
    "def CalcComp(e,C1,V):\n",
    "    e1 = np.zeros(len(e)+1)\n",
    "    e2 = np.zeros(len(e)+1)\n",
    "    e1[0] = e[0]\n",
    "    e2[-1] = e[-1]\n",
    "    e1[1:] = e1[1:] + e\n",
    "    e2[:-1] = e2[:-1] + e\n",
    "    l = np.sqrt((e1-e2)**2 + 4*C1**2*np.sinh(V/(2*C1))**2)\n",
    "    return l\n",
    "def CalcH(hmin,fc):\n",
    "    hmin1 = np.zeros(len(hmin)-1)\n",
    "    hmin2 = np.zeros(len(hmin)-1)\n",
    "    hmin1 = hmin[:-1]\n",
    "    hmin2 = hmin[1:]\n",
    "    fc1 = np.zeros(len(fc)-1)\n",
    "    fc2 = np.zeros(len(fc)-1)\n",
    "    fc1 = fc[:-1]\n",
    "    fc2 = fc[1:]\n",
    "    H = np.maximum(hmin1,hmin2)+np.maximum(fc1,fc1)\n",
    "    return H\n",
    "def FindTo2(q,E,S,PesoCabo,Ag,TracaoTo,alfa_t,t,t_EDS,Tol):\n",
    "    A = (E*S*PesoCabo**2*Ag**2)/(24*TracaoTo**2)+E*S*alfa_t*(t-t_EDS)-TracaoTo\n",
    "    B = (E*S*q**2*Ag**2)/24\n",
    "    To2 = TracaoTo+TracaoTo*0.1\n",
    "    mod_erro = 100\n",
    "    while(mod_erro > Tol):\n",
    "        erro = -(To2**3+To2**2*A-B)/(3*To2**2+2*To2*A)\n",
    "        mod_erro = np.max(np.absolute(erro))\n",
    "        To2 = To2 + erro\n",
    "    return To2"
   ]
  },
  {
   "cell_type": "code",
   "execution_count": 232,
   "metadata": {
    "collapsed": true,
    "jupyter": {
     "outputs_hidden": true
    },
    "ExecuteTime": {
     "end_time": "2023-12-07T01:29:58.008164Z",
     "start_time": "2023-12-07T01:29:57.584164900Z"
    }
   },
   "outputs": [
    {
     "data": {
      "text/plain": "1.9767000000000001"
     },
     "execution_count": 232,
     "metadata": {},
     "output_type": "execute_result"
    }
   ],
   "source": [
    "# Dados dos Cabos\n",
    "PesoCabo =  1,9801*9.8     # kgf/m, Catálogo Nexans\n",
    "PesoCabo"
   ]
  },
  {
   "cell_type": "code",
   "execution_count": 233,
   "metadata": {
    "collapsed": false,
    "ExecuteTime": {
     "end_time": "2023-12-07T01:29:58.008164Z",
     "start_time": "2023-12-07T01:29:57.599167400Z"
    }
   },
   "outputs": [
    {
     "data": {
      "text/plain": "16101"
     },
     "execution_count": 233,
     "metadata": {},
     "output_type": "execute_result"
    }
   ],
   "source": [
    "TensaoRuptura = 16125       # retirado do Catálogo Nexans\n",
    "TensaoRuptura"
   ]
  },
  {
   "cell_type": "code",
   "execution_count": 234,
   "metadata": {
    "collapsed": false,
    "ExecuteTime": {
     "end_time": "2023-12-07T01:29:58.009166400Z",
     "start_time": "2023-12-07T01:29:57.614166200Z"
    }
   },
   "outputs": [
    {
     "data": {
      "text/plain": "3220.2000000000003"
     },
     "execution_count": 234,
     "metadata": {},
     "output_type": "execute_result"
    }
   ],
   "source": [
    "TracaoTo = 0.2*TensaoRuptura    # Máxima tensão de ruptura adm. (NBR5422)\n",
    "TracaoTo"
   ]
  },
  {
   "cell_type": "code",
   "execution_count": 235,
   "metadata": {
    "collapsed": false,
    "ExecuteTime": {
     "end_time": "2023-12-07T01:29:58.009166400Z",
     "start_time": "2023-12-07T01:29:57.632166800Z"
    }
   },
   "outputs": [
    {
     "data": {
      "text/plain": "1629.0787676430414"
     },
     "execution_count": 235,
     "metadata": {},
     "output_type": "execute_result"
    }
   ],
   "source": [
    "C1 = TracaoTo/PesoCabo  # Constante de Contorno\n",
    "C1"
   ]
  },
  {
   "cell_type": "code",
   "execution_count": 236,
   "metadata": {
    "collapsed": false,
    "ExecuteTime": {
     "end_time": "2023-12-07T01:29:58.009166400Z",
     "start_time": "2023-12-07T01:29:57.647168100Z"
    }
   },
   "outputs": [
    {
     "data": {
      "text/plain": "67000.0"
     },
     "execution_count": 236,
     "metadata": {},
     "output_type": "execute_result"
    }
   ],
   "source": [
    "E = 67e+3   # Módulo de elasticidade para cabos CAA 54/7 # catálogo Alubrás\n",
    "E"
   ]
  },
  {
   "cell_type": "code",
   "execution_count": 237,
   "metadata": {
    "collapsed": false,
    "ExecuteTime": {
     "end_time": "2023-12-07T01:29:58.009166400Z",
     "start_time": "2023-12-07T01:29:57.663168800Z"
    }
   },
   "outputs": [
    {
     "data": {
      "text/plain": "1.94e-05"
     },
     "execution_count": 237,
     "metadata": {},
     "output_type": "execute_result"
    }
   ],
   "source": [
    "alfa_t = 19.4e-6 # Coef. dilatação para cabos CAA 54/7 # catálogo Alubrás\n",
    "alfa_t"
   ]
  },
  {
   "cell_type": "code",
   "execution_count": 238,
   "metadata": {
    "collapsed": false,
    "ExecuteTime": {
     "end_time": "2023-12-07T01:29:58.009166400Z",
     "start_time": "2023-12-07T01:29:57.679166Z"
    }
   },
   "outputs": [
    {
     "data": {
      "text/plain": "590.25"
     },
     "execution_count": 238,
     "metadata": {},
     "output_type": "execute_result"
    }
   ],
   "source": [
    "S = 591.26 # Área de Secção Transversal em mm²  Catálogo Nexans\n",
    "S"
   ]
  },
  {
   "cell_type": "code",
   "execution_count": 239,
   "metadata": {
    "collapsed": false,
    "ExecuteTime": {
     "end_time": "2023-12-07T01:29:58.009166400Z",
     "start_time": "2023-12-07T01:29:57.694165500Z"
    }
   },
   "outputs": [
    {
     "data": {
      "text/plain": "0.03159"
     },
     "execution_count": 239,
     "metadata": {},
     "output_type": "execute_result"
    }
   ],
   "source": [
    "diametro = 31.62/1000 # Diâmetro do condutor em m,  Catálogo Nexans\n",
    "diametro"
   ]
  },
  {
   "cell_type": "code",
   "execution_count": 240,
   "metadata": {
    "collapsed": false,
    "ExecuteTime": {
     "end_time": "2023-12-07T01:29:58.010200800Z",
     "start_time": "2023-12-07T01:29:57.711165800Z"
    }
   },
   "outputs": [],
   "source": [
    "# Dados do Projeto\n",
    "\n",
    "x = np.zeros(8)\n",
    "x[0] = 150        # Distância entre o centro do Vão 1 e Torre E1\n",
    "x[1] = 380        # Distância entre a Torre E1 e o centro do Vão 2\n",
    "x[2] = 100        # Distância entre a Torre E2 e o centro do Vão 2\n",
    "x[3] = 250        # Distância entre o centro do Vão 2 e o centro do Vão 3\n",
    "x[4] = 50         # Distância entre o centro do Vão 3 e Torre E3\n",
    "x[5] = 200        # Distância entre a Torre E3 e o centro do Vão 4\n",
    "x[6] = 150        # Distância entre o centro do Vão 4 e Torre E4\n",
    "x[7] = 250        # Distância entre a Torre E4 e o centro do Vão 5\n",
    "\n",
    "V = np.zeros(5)\n",
    "V[0] = 300        # Centro do vão 1\n",
    "V[1] = 280        # Centro do vão 2\n",
    "V[2] = 400        # Centro do vão 3\n",
    "V[3] = 350        # Centro do vão 4\n",
    "V[4] = 500        # Centro do vão 5\n",
    "\n",
    "E =  np.zeros(4)\n",
    "E[0] = 50         # Altura de desnível da Torre E1\n",
    "E[1] = 20         # Altura de desnível da Torre E2\n",
    "E[2] = 10         # Altura de desnível da Torre E3\n",
    "E[3] = 0          # Torre de referência, considerando 0 m de desnível\n",
    "\n",
    "Vlinha = 500    # Tensão da LT, em kV\n",
    "llinha = 430e+3 # Comprimento da LT, em kV]"
   ]
  },
  {
   "cell_type": "code",
   "execution_count": 241,
   "metadata": {
    "collapsed": false,
    "ExecuteTime": {
     "end_time": "2023-12-07T01:29:58.010200800Z",
     "start_time": "2023-12-07T01:29:57.728165900Z"
    }
   },
   "outputs": [],
   "source": [
    "# Dados do Ambiente %\n",
    "\n",
    "alt = 430           # Altitude média do ambiente\n",
    "t_EDS = 23          # Temperatura EDS\n",
    "t_min = 1.2         # Temperatura mínima\n",
    "vt_min = 25         # Velocidade do vento p/ temperatura mínima\n",
    "vt_min_ang = 0      # Ângulo de incidência do vento p/ temp. mínima\n",
    "t_coin = 18.4       # Temperatura coincidente\n",
    "vt_coin = 32        # Velocidade do vento p/ temperatura coincidente\n",
    "vt_coin_ang = 90    # Ângulo de incidência do vento p/ temp. coincidente\n",
    "t_max = 44          # Temperatura máxima\n",
    "vt_max = 0          # Velocidade do vento p/ temperatura máxima\n",
    "vt_max_ang = 0      # Ângulo de incidência do vento p/ temp. máxima"
   ]
  },
  {
   "cell_type": "code",
   "execution_count": 242,
   "metadata": {
    "collapsed": false,
    "ExecuteTime": {
     "end_time": "2023-12-07T01:29:58.010200800Z",
     "start_time": "2023-12-07T01:29:57.743167100Z"
    }
   },
   "outputs": [
    {
     "name": "stdout",
     "output_type": "stream",
     "text": [
      "Tol: 1e-06\n",
      "par: 1.1520508960635631\n"
     ]
    }
   ],
   "source": [
    "# Variáveis de Uso Comum\n",
    "\n",
    "Tol = 1e-6                                                                      # Tolerância para divergência\n",
    "print('Tol:',Tol)\n",
    "par = (1.293/(1+0.00367*t_coin))*((16000+64*t_coin-alt)/(16000+64*t_coin+alt))  # Massa específica do ar, em kg/m3\n",
    "print('par:',par)\n",
    "Cxc = 1.0                                                                       # Coeficiente de arrasto (padrão: 1.0)\n",
    "alfa_e = 0.8                                                                    # coeficiente de efetividade da pressão do vento (padrão: 0.8)\n",
    "size = 5\n",
    "q = np.zeros(size)\n",
    "fv = np.zeros(size)\n",
    "q[0] = PesoCabo\n",
    "fv[0] = 0"
   ]
  },
  {
   "cell_type": "code",
   "execution_count": 243,
   "metadata": {
    "collapsed": false,
    "ExecuteTime": {
     "end_time": "2023-12-07T01:29:58.010200800Z",
     "start_time": "2023-12-07T01:29:57.760167800Z"
    }
   },
   "outputs": [
    {
     "data": {
      "text/plain": "array([10.38675135, 10.38675135, 11.38675135,  8.88675135,  8.88675135])"
     },
     "execution_count": 243,
     "metadata": {},
     "output_type": "execute_result"
    }
   ],
   "source": [
    "# Alturas Míninas dos Vãos\n",
    "\n",
    "hmin_v = np.zeros(5)\n",
    "hmin_v[0] = 8.0+0.01*(Vlinha/sqrt(3)-50)    # Altura p/ Rodovia Federal\n",
    "hmin_v[1] = 8.0+0.01*(Vlinha/sqrt(3)-50)    # Altura p/ Rodovia Federal\n",
    "hmin_v[2] = 9.0+0.01*(Vlinha/sqrt(3)-50)    # Altura p/ Ferrovia ñ Eletrificada\n",
    "hmin_v[3] = 6.5+0.01*(Vlinha/sqrt(3)-50)    # Altura p/ Máquinas Agrícolas\n",
    "hmin_v[4] = 6.5+0.01*(Vlinha/sqrt(3)-50)    # Altura p/ Máquinas Agrícolas\n",
    "hmin_v"
   ]
  },
  {
   "cell_type": "code",
   "execution_count": 244,
   "metadata": {
    "collapsed": false,
    "ExecuteTime": {
     "end_time": "2023-12-07T01:29:58.010200800Z",
     "start_time": "2023-12-07T01:29:57.775168500Z"
    }
   },
   "outputs": [
    {
     "data": {
      "text/plain": "array([290., 340., 375., 425.])"
     },
     "execution_count": 244,
     "metadata": {},
     "output_type": "execute_result"
    }
   ],
   "source": [
    "# Cálculo do Vão Médio das Torres\n",
    "# Vão médio (am ou vm): representa a média aritmética entre os vãos adjacentes à estrutura.\n",
    "\n",
    "am_E = np.zeros(4)\n",
    "am_E[0] = (2*x[0]+(x[1]-x[2]))/2        # Vão 1 está entre torre E-∞ e E1\n",
    "am_E[1] = ((x[1]+x[3]+x[4]))/2          # Vão 2 está entre torre E1 e E2\n",
    "am_E[2] = (x[2]+x[3]+x[4]+x[5]+x[6])/2  # Vão 3 está entre torre E3 e E4\n",
    "am_E[3] = ((x[5]+x[6])+2*x[7])/2        # Vão 4 está entre torre E4 e E+∞\n",
    "am_E"
   ]
  },
  {
   "cell_type": "code",
   "execution_count": 245,
   "metadata": {
    "collapsed": false,
    "ExecuteTime": {
     "end_time": "2023-12-07T01:29:58.010200800Z",
     "start_time": "2023-12-07T01:29:57.788172100Z"
    }
   },
   "outputs": [
    {
     "data": {
      "text/plain": "array([530., 250., 250., 400.])"
     },
     "execution_count": 245,
     "metadata": {},
     "output_type": "execute_result"
    }
   ],
   "source": [
    "# Cálculo do Vão Gravante das Torres\n",
    "# Vão gravante (Ag ou Vg): somatório das distâncias da estrutura aos centros das catenárias adjacentes a ela.\n",
    "\n",
    "Ag_E = np.zeros(4)\n",
    "Ag_E[0] = x[0]+x[1] # Distância entre centros do vãos 1 e 2\n",
    "Ag_E[1] = x[3]      # Distância entre centros do vãos 2 e 3\n",
    "Ag_E[2] = x[4]+x[5] # Distância entre centros do vãos 3 e 4\n",
    "Ag_E[3] = x[6]+x[7] # Distância entre centros do vãos 4 e 5\n",
    "Ag_E"
   ]
  },
  {
   "cell_type": "code",
   "execution_count": 246,
   "metadata": {
    "collapsed": false,
    "ExecuteTime": {
     "end_time": "2023-12-07T01:29:58.011199100Z",
     "start_time": "2023-12-07T01:29:57.805164200Z"
    }
   },
   "outputs": [
    {
     "data": {
      "text/plain": "391.7363616632752"
     },
     "execution_count": 246,
     "metadata": {},
     "output_type": "execute_result"
    }
   ],
   "source": [
    "# Cálculo do Vão Regulador\n",
    "\n",
    "# regulador (ar ou vr): representa a forma das catenárias de todos os vãos do trecho projetado.\n",
    "\n",
    "a = np.zeros(5)\n",
    "a[0] = 2*x[0]                                               # Distância entre Torre E-∞ e Torre E1\n",
    "a[1] = x[1] - x[2]                                          # Distância entre Torre E1 e Torre E2\n",
    "a[2] = x[2] + x[3] + x[4]                                   # Distância entre Torre E2 e Torre E3\n",
    "a[3] = x[5] + x[6]                                          # Distância entre Torre E3 e Torre E4\n",
    "a[4] = 2*x[7]                                               # Distância entre Torre E4 e Torre E+∞\n",
    "ar = sqrt(np.sum(a**3)/np.sum(a))  #Equação de ar\n",
    "ar"
   ]
  },
  {
   "cell_type": "code",
   "execution_count": 247,
   "metadata": {
    "collapsed": false,
    "ExecuteTime": {
     "end_time": "2023-12-07T01:29:58.011199100Z",
     "start_time": "2023-12-07T01:29:57.822198200Z"
    }
   },
   "outputs": [
    {
     "name": "stdout",
     "output_type": "stream",
     "text": [
      "[1047.651  494.175  494.175  790.68 ]\n",
      "[3386.3343984   494.175       494.175      3315.85025331]\n"
     ]
    }
   ],
   "source": [
    "'''\n",
    "Trações nos Cabos\n",
    "As trações verticais em cada estrutura são sempre dadas pelo peso do condutor (sempre em [kgf/m]) multiplicadas pelo somatório das distâncias entre a estrutura\n",
    "e os vértices das catenárias adjacentes a ela, ou seja, peso multiplicado pelo vão gravante (Vg).\n",
    "'''\n",
    "Tv_E = np.zeros(4)\n",
    "T_E = np.zeros(4)\n",
    "\n",
    "Tv_E[0] = PesoCabo*Ag_E[0]              # Tração vertical da Torre E1\n",
    "T_E[0] = sqrt(Tv_E[0]**2+TracaoTo**2)   # Tração total da Torre E1\n",
    "Tv_E[1] = PesoCabo*Ag_E[1]              # Tração vertical da Torre E2\n",
    "T_E[1] = Tv_E[1]                        # Tração total da Torre E2\n",
    "Tv_E[2] = PesoCabo*Ag_E[2]              # Tração vertical da Torre E3\n",
    "T_E[2] = Tv_E[2]                        # Tração total da Torre E3\n",
    "Tv_E[3] = PesoCabo*Ag_E[3]              # Tração vertical da Torre E4\n",
    "T_E[3] = sqrt(Tv_E[3]**2+TracaoTo**2)   # Tração total da Torre E4\n",
    "print(Tv_E)\n",
    "print(T_E)"
   ]
  },
  {
   "cell_type": "code",
   "execution_count": 248,
   "metadata": {
    "collapsed": false,
    "ExecuteTime": {
     "end_time": "2023-12-07T01:29:58.011199100Z",
     "start_time": "2023-12-07T01:29:57.836167700Z"
    }
   },
   "outputs": [
    {
     "data": {
      "text/plain": "array([[ 6.91062377,  6.01937307, 12.29230489,  9.40852648, 19.22029653],\n       [ 0.        ,  0.        ,  0.        ,  0.        ,  0.        ],\n       [ 0.        ,  0.        ,  0.        ,  0.        ,  0.        ],\n       [ 0.        ,  0.        ,  0.        ,  0.        ,  0.        ]])"
     },
     "execution_count": 248,
     "metadata": {},
     "output_type": "execute_result"
    }
   ],
   "source": [
    "'''\n",
    "Cálculo das Flechas para Condição Inicial\n",
    "A equação da catenária é a equação geral para o comprimento dos cabos e pode ser usada tanto para cabos suspensos por estruturas de mesma altura quando para cabos\n",
    "suspensos por estruturas de alturas diferentes.\n",
    "'''\n",
    "fc = np.zeros([4,5])\n",
    "fc[0] = CalcFlecha(PesoCabo,V,TracaoTo,C1) # Flecha de todos os vãos\n",
    "fc"
   ]
  },
  {
   "cell_type": "code",
   "execution_count": 249,
   "metadata": {
    "collapsed": false,
    "ExecuteTime": {
     "end_time": "2023-12-07T01:29:58.012167300Z",
     "start_time": "2023-12-07T01:29:57.851166600Z"
    }
   },
   "outputs": [
    {
     "data": {
      "text/plain": "array([   0.        , 1836.28061734,    0.        ,    0.        ,\n          0.        ])"
     },
     "execution_count": 249,
     "metadata": {},
     "output_type": "execute_result"
    }
   ],
   "source": [
    "'''\n",
    "Cálculo do Comprimento da Linha para Condição Inicial\n",
    "A equação da catenária é a equação geral para o comprimento dos cabos e pode ser\n",
    "usada tanto para cabos suspensos por estruturas de mesma altura quando para cabos\n",
    "suspensos por estruturas de alturas diferentes.\n",
    "'''\n",
    "l = CalcComp(E,C1,V) # Comprimento da linha entre E-∞ e E1, nivelada\n",
    "l_tot = np.zeros(size)\n",
    "l_tot[1] = np.sum(l)\n",
    "l_tot"
   ]
  },
  {
   "cell_type": "code",
   "execution_count": 250,
   "metadata": {
    "collapsed": false,
    "ExecuteTime": {
     "end_time": "2023-12-07T01:29:58.012167300Z",
     "start_time": "2023-12-07T01:29:57.866167200Z"
    }
   },
   "outputs": [
    {
     "name": "stdout",
     "output_type": "stream",
     "text": [
      "[17.29737512 17.40612442 23.67905624 18.29527782]\n"
     ]
    }
   ],
   "source": [
    "'''\n",
    "Cálculo de Altura da Torre para Condição Inicial\n",
    "A altura da torre é dada pela soma entre a altura mínima e a flecha.\n",
    "'''\n",
    "H_E = CalcH(hmin_v,fc[0])\n",
    "print(H_E)\n",
    "Toc = np.zeros(size)\n",
    "Toc[0] = TracaoTo"
   ]
  },
  {
   "cell_type": "code",
   "execution_count": 251,
   "metadata": {
    "collapsed": false,
    "ExecuteTime": {
     "end_time": "2023-12-07T01:29:58.012167300Z",
     "start_time": "2023-12-07T01:29:57.882164800Z"
    }
   },
   "outputs": [],
   "source": [
    "# Correção para Temperatura Máxima (42oC) Sem Vento\n",
    "\n",
    "q0 = 1/2*par*vt_max**2\n",
    "#fv = q0*Cxc*alfa_e*diametro*0.102*sind(vt_coin_ang)^2;\n",
    "fv[1] = 0.0045*vt_max**2*alfa_e*diametro\n",
    "q[1] = np.sqrt(fv[1]**2+PesoCabo**2)"
   ]
  },
  {
   "cell_type": "code",
   "execution_count": 252,
   "metadata": {
    "collapsed": false,
    "ExecuteTime": {
     "end_time": "2023-12-07T01:29:58.013166900Z",
     "start_time": "2023-12-07T01:29:57.895164600Z"
    }
   },
   "outputs": [
    {
     "name": "stdout",
     "output_type": "stream",
     "text": [
      "[3209.08017673 3215.42507255 3217.80395026 3220.2       ] 4\n"
     ]
    }
   ],
   "source": [
    "# Novas Trações dos Cabos\n",
    "\n",
    "To2 = FindTo2(q[1],E,S,PesoCabo,Ag_E,TracaoTo,alfa_t,t_max,t_EDS,Tol)\n",
    "print(To2, len(To2))"
   ]
  },
  {
   "cell_type": "code",
   "execution_count": 253,
   "metadata": {
    "collapsed": false,
    "ExecuteTime": {
     "end_time": "2023-12-07T01:29:58.013166900Z",
     "start_time": "2023-12-07T01:29:57.911164300Z"
    }
   },
   "outputs": [
    {
     "data": {
      "text/plain": "array([[ 6.91062377,  6.01937307, 12.29230489,  9.40852648, 19.22029653],\n       [ 6.91062377,  6.01937307, 12.29230489,  9.40852648, 19.22029653],\n       [ 0.        ,  0.        ,  0.        ,  0.        ,  0.        ],\n       [ 0.        ,  0.        ,  0.        ,  0.        ,  0.        ]])"
     },
     "execution_count": 253,
     "metadata": {},
     "output_type": "execute_result"
    }
   ],
   "source": [
    "# Novas Flechas\n",
    "C1 = np.max(To2)/q[1]\n",
    "fc[1] = CalcFlecha(q[1],V,np.max(To2),C1) # Flecha de todos os vãos\n",
    "fc"
   ]
  },
  {
   "cell_type": "code",
   "execution_count": 254,
   "metadata": {
    "collapsed": false,
    "ExecuteTime": {
     "end_time": "2023-12-07T01:29:58.013166900Z",
     "start_time": "2023-12-07T01:29:57.926164200Z"
    }
   },
   "outputs": [
    {
     "data": {
      "text/plain": "1836.280617338196"
     },
     "execution_count": 254,
     "metadata": {},
     "output_type": "execute_result"
    }
   ],
   "source": [
    "# Novo Comprimento das Linhas\n",
    "\n",
    "l = CalcComp(E,C1,V) # Comprimento da linha entre E-∞ e E1, nivelada\n",
    "l_tot[1] = np.sum(l)\n",
    "l_tot[1]"
   ]
  },
  {
   "cell_type": "code",
   "execution_count": 255,
   "metadata": {
    "collapsed": false,
    "ExecuteTime": {
     "end_time": "2023-12-07T01:29:58.013166900Z",
     "start_time": "2023-12-07T01:29:57.943165700Z"
    }
   },
   "outputs": [
    {
     "name": "stdout",
     "output_type": "stream",
     "text": [
      "[17.29737512 17.40612442 23.67905624 18.29527782] [3220.2 3220.2    0.     0.     0. ]\n"
     ]
    }
   ],
   "source": [
    "# Novas Alturas das Torres\n",
    "\n",
    "H_E = CalcH(hmin_v,fc[1])\n",
    "Toc[1] = np.max(To2)\n",
    "print(H_E,Toc)"
   ]
  },
  {
   "cell_type": "code",
   "execution_count": 256,
   "metadata": {
    "collapsed": false,
    "ExecuteTime": {
     "end_time": "2023-12-07T01:29:58.013166900Z",
     "start_time": "2023-12-07T01:29:57.959164800Z"
    }
   },
   "outputs": [],
   "source": [
    "# Correção para Temperatura Mínima (1,2 oC) Com Vento de 25 km/h\n",
    "\n",
    "q0 = 1/2*par*vt_min**2\n",
    "fv[2] = 0.0045*vt_min**2*alfa_e*diametro;\n",
    "q[2] = sqrt(fv[2]**2 + PesoCabo**2);"
   ]
  },
  {
   "cell_type": "code",
   "execution_count": 257,
   "metadata": {
    "collapsed": false,
    "ExecuteTime": {
     "end_time": "2023-12-07T01:29:58.032166400Z",
     "start_time": "2023-12-07T01:29:57.976167600Z"
    }
   },
   "outputs": [
    {
     "name": "stdout",
     "output_type": "stream",
     "text": [
      "[3231.90725277 3225.17181494 3222.69479842 3220.2       ] 4\n"
     ]
    }
   ],
   "source": [
    "# Novas Trações dos Cabos\n",
    "\n",
    "To2 = FindTo2(q[2],E,S,PesoCabo,Ag_E,TracaoTo,alfa_t,t_min,t_EDS,Tol)\n",
    "print(To2, len(To2))"
   ]
  },
  {
   "cell_type": "code",
   "execution_count": 258,
   "metadata": {
    "collapsed": false,
    "ExecuteTime": {
     "end_time": "2023-12-07T01:29:58.032166400Z",
     "start_time": "2023-12-07T01:29:57.991166800Z"
    }
   },
   "outputs": [
    {
     "data": {
      "text/plain": "array([[ 6.91062377,  6.01937307, 12.29230489,  9.40852648, 19.22029653],\n       [ 6.91062377,  6.01937307, 12.29230489,  9.40852648, 19.22029653],\n       [ 6.89001173,  6.00142258, 12.25560109,  9.38044981, 19.16282583],\n       [ 0.        ,  0.        ,  0.        ,  0.        ,  0.        ]])"
     },
     "execution_count": 258,
     "metadata": {},
     "output_type": "execute_result"
    }
   ],
   "source": [
    "# Novas Flechas\n",
    "C1 = np.max(To2)/q[2]\n",
    "fc[2] = CalcFlecha(q[2],V,np.max(To2),C1) # Flecha de todos os vãos\n",
    "fc"
   ]
  },
  {
   "cell_type": "code",
   "execution_count": 259,
   "metadata": {
    "collapsed": false,
    "ExecuteTime": {
     "end_time": "2023-12-07T01:29:58.138168Z",
     "start_time": "2023-12-07T01:29:58.006165200Z"
    }
   },
   "outputs": [
    {
     "data": {
      "text/plain": "1836.2543625604835"
     },
     "execution_count": 259,
     "metadata": {},
     "output_type": "execute_result"
    }
   ],
   "source": [
    "# Novo Comprimento da Linha\n",
    "\n",
    "l = CalcComp(E,C1,V) # Comprimento da linha entre E-∞ e E1, nivelada\n",
    "l_tot = np.sum(l)\n",
    "l_tot"
   ]
  },
  {
   "cell_type": "code",
   "execution_count": 260,
   "metadata": {
    "collapsed": false,
    "ExecuteTime": {
     "end_time": "2023-12-07T01:29:58.395233400Z",
     "start_time": "2023-12-07T01:29:58.023166900Z"
    }
   },
   "outputs": [
    {
     "name": "stdout",
     "output_type": "stream",
     "text": [
      "[17.27676308 17.38817392 23.64235243 18.26720115] [3220.2        3220.2        3231.90725277    0.            0.        ]\n"
     ]
    }
   ],
   "source": [
    "# Novas Alturas das Torres\n",
    "H_E = CalcH(hmin_v,fc[2])\n",
    "Toc[2] = np.max(To2)\n",
    "print(H_E,Toc)"
   ]
  },
  {
   "cell_type": "code",
   "execution_count": 261,
   "metadata": {
    "collapsed": false,
    "ExecuteTime": {
     "end_time": "2023-12-07T01:29:58.427199800Z",
     "start_time": "2023-12-07T01:29:58.039165900Z"
    }
   },
   "outputs": [],
   "source": [
    "# Correção para Temperatura Coincidente (18,4 oC) Com Vento de 32 km/h e 90°\n",
    "\n",
    "q0 = 1/2*par*vt_coin**2;\n",
    "#fv = q0*Cxc*alfa_e*diametro*0.102*sind(vt_coin_ang)^2;\n",
    "fv[3] = 0.0045*vt_coin**2*alfa_e*diametro\n",
    "q[3] = sqrt(fv[3]**2 + PesoCabo**2)"
   ]
  },
  {
   "cell_type": "code",
   "execution_count": 262,
   "metadata": {
    "collapsed": false,
    "ExecuteTime": {
     "end_time": "2023-12-07T01:29:58.428199600Z",
     "start_time": "2023-12-07T01:29:58.055164700Z"
    }
   },
   "outputs": [
    {
     "name": "stdout",
     "output_type": "stream",
     "text": [
      "[3223.05421282 3221.28584734 3220.74487494 3220.2       ] 4\n"
     ]
    }
   ],
   "source": [
    "# Novas Trações dos Cabos\n",
    "\n",
    "To2 = FindTo2(q[3],E,S,PesoCabo,Ag_E,TracaoTo,alfa_t,t_coin,t_EDS,Tol)\n",
    "print(To2, len(To2))"
   ]
  },
  {
   "cell_type": "code",
   "execution_count": 263,
   "metadata": {
    "collapsed": false,
    "ExecuteTime": {
     "end_time": "2023-12-07T01:29:58.428199600Z",
     "start_time": "2023-12-07T01:29:58.073167800Z"
    }
   },
   "outputs": [
    {
     "data": {
      "text/plain": "array([[ 6.91062377,  6.01937307, 12.29230489,  9.40852648, 19.22029653],\n       [ 6.91062377,  6.01937307, 12.29230489,  9.40852648, 19.22029653],\n       [ 6.89001173,  6.00142258, 12.25560109,  9.38044981, 19.16282583],\n       [ 6.91648378,  6.02447639, 12.30273985,  9.41650869, 19.23663568]])"
     },
     "execution_count": 263,
     "metadata": {},
     "output_type": "execute_result"
    }
   ],
   "source": [
    "# Novas Flechas\n",
    "C1 = np.max(To2)/q[3]\n",
    "fc[3] = CalcFlecha(q[3],V,np.max(To2),C1) # Flecha de todos os vãos\n",
    "fc"
   ]
  },
  {
   "cell_type": "code",
   "execution_count": 264,
   "metadata": {
    "collapsed": false,
    "ExecuteTime": {
     "end_time": "2023-12-07T01:29:58.428199600Z",
     "start_time": "2023-12-07T01:29:58.086165800Z"
    }
   },
   "outputs": [
    {
     "data": {
      "text/plain": "1836.2880958547607"
     },
     "execution_count": 264,
     "metadata": {},
     "output_type": "execute_result"
    }
   ],
   "source": [
    "# Novo Comprimento da Linha\n",
    "\n",
    "l = CalcComp(E,C1,V) # Comprimento da linha entre E-∞ e E1, nivelada\n",
    "l_tot = np.sum(l)\n",
    "l_tot"
   ]
  },
  {
   "cell_type": "code",
   "execution_count": 265,
   "metadata": {
    "collapsed": false,
    "ExecuteTime": {
     "end_time": "2023-12-07T01:29:58.428199600Z",
     "start_time": "2023-12-07T01:29:58.103164700Z"
    }
   },
   "outputs": [],
   "source": [
    "# Novas Alturas das Torres\n",
    "\n",
    "H_E = CalcH(hmin_v,fc[2])\n",
    "Toc[3] = np.max(To2)\n"
   ]
  },
  {
   "cell_type": "code",
   "execution_count": 266,
   "outputs": [
    {
     "name": "stdout",
     "output_type": "stream",
     "text": [
      "[1.9767     1.9767     1.97797748 1.98012734 0.        ]\n",
      "[0.         0.         0.0710775  0.11645338 0.        ]\n",
      "[[ 6.91062377  6.01937307 12.29230489  9.40852648 19.22029653]\n",
      " [ 6.91062377  6.01937307 12.29230489  9.40852648 19.22029653]\n",
      " [ 6.89001173  6.00142258 12.25560109  9.38044981 19.16282583]\n",
      " [ 6.91648378  6.02447639 12.30273985  9.41650869 19.23663568]]\n"
     ]
    }
   ],
   "source": [
    "print(q)\n",
    "print(fv)\n",
    "print(fc)"
   ],
   "metadata": {
    "collapsed": false,
    "ExecuteTime": {
     "end_time": "2023-12-07T01:29:58.429198800Z",
     "start_time": "2023-12-07T01:29:58.118168300Z"
    }
   }
  },
  {
   "cell_type": "code",
   "execution_count": 267,
   "outputs": [
    {
     "data": {
      "text/plain": "array([17.27676308, 17.38817392, 23.64235243, 18.26720115])"
     },
     "execution_count": 267,
     "metadata": {},
     "output_type": "execute_result"
    }
   ],
   "source": [
    "H_E"
   ],
   "metadata": {
    "collapsed": false,
    "ExecuteTime": {
     "end_time": "2023-12-07T01:29:58.431198900Z",
     "start_time": "2023-12-07T01:29:58.136168100Z"
    }
   }
  }
 ],
 "metadata": {
  "kernelspec": {
   "display_name": "Python 3 (ipykernel)",
   "language": "python",
   "name": "python3"
  },
  "language_info": {
   "codemirror_mode": {
    "name": "ipython",
    "version": 3
   },
   "file_extension": ".py",
   "mimetype": "text/x-python",
   "name": "python",
   "nbconvert_exporter": "python",
   "pygments_lexer": "ipython3",
   "version": "3.10.11"
  }
 },
 "nbformat": 4,
 "nbformat_minor": 4
}
